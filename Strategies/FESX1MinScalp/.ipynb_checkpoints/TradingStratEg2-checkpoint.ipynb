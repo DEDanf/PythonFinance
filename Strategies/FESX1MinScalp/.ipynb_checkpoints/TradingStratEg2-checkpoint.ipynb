{
 "cells": [
  {
   "cell_type": "code",
   "execution_count": 1,
   "metadata": {},
   "outputs": [],
   "source": [
    "import numpy as np"
   ]
  },
  {
   "cell_type": "code",
   "execution_count": 2,
   "metadata": {},
   "outputs": [],
   "source": [
    "import pandas as pd"
   ]
  },
  {
   "cell_type": "code",
   "execution_count": 3,
   "metadata": {},
   "outputs": [],
   "source": [
    "import matplotlib.pyplot as plt"
   ]
  },
  {
   "cell_type": "code",
   "execution_count": 4,
   "metadata": {},
   "outputs": [],
   "source": [
    "data = pd.read_csv('FESXZ20-Eurex1Min.csv')"
   ]
  },
  {
   "cell_type": "markdown",
   "metadata": {},
   "source": [
    "Import FESX futures data set with 1 min, compute profitability of a strategy that fades a 5 min price change for 1,2, and 3 mins to understand what the most profitable hold size would be."
   ]
  },
  {
   "cell_type": "code",
   "execution_count": 5,
   "metadata": {},
   "outputs": [
    {
     "data": {
      "text/html": [
       "<div>\n",
       "<style scoped>\n",
       "    .dataframe tbody tr th:only-of-type {\n",
       "        vertical-align: middle;\n",
       "    }\n",
       "\n",
       "    .dataframe tbody tr th {\n",
       "        vertical-align: top;\n",
       "    }\n",
       "\n",
       "    .dataframe thead th {\n",
       "        text-align: right;\n",
       "    }\n",
       "</style>\n",
       "<table border=\"1\" class=\"dataframe\">\n",
       "  <thead>\n",
       "    <tr style=\"text-align: right;\">\n",
       "      <th></th>\n",
       "      <th>Date</th>\n",
       "      <th>Time</th>\n",
       "      <th>Open</th>\n",
       "      <th>High</th>\n",
       "      <th>Low</th>\n",
       "      <th>Last</th>\n",
       "      <th>Volume</th>\n",
       "      <th># of Trades</th>\n",
       "      <th>OHLC Avg</th>\n",
       "      <th>HLC Avg</th>\n",
       "      <th>HL Avg</th>\n",
       "      <th>Bid Volume</th>\n",
       "      <th>Ask Volume</th>\n",
       "      <th>Volume_1</th>\n",
       "    </tr>\n",
       "  </thead>\n",
       "  <tbody>\n",
       "    <tr>\n",
       "      <th>0</th>\n",
       "      <td>29/07/2020</td>\n",
       "      <td>01:15:00</td>\n",
       "      <td>3287</td>\n",
       "      <td>3289</td>\n",
       "      <td>3287</td>\n",
       "      <td>3289</td>\n",
       "      <td>152</td>\n",
       "      <td>34</td>\n",
       "      <td>3288</td>\n",
       "      <td>3288</td>\n",
       "      <td>3288</td>\n",
       "      <td>40</td>\n",
       "      <td>112</td>\n",
       "      <td>152</td>\n",
       "    </tr>\n",
       "    <tr>\n",
       "      <th>1</th>\n",
       "      <td>29/07/2020</td>\n",
       "      <td>01:16:00</td>\n",
       "      <td>3290</td>\n",
       "      <td>3291</td>\n",
       "      <td>3289</td>\n",
       "      <td>3291</td>\n",
       "      <td>158</td>\n",
       "      <td>34</td>\n",
       "      <td>3290</td>\n",
       "      <td>3290</td>\n",
       "      <td>3290</td>\n",
       "      <td>56</td>\n",
       "      <td>102</td>\n",
       "      <td>158</td>\n",
       "    </tr>\n",
       "    <tr>\n",
       "      <th>2</th>\n",
       "      <td>29/07/2020</td>\n",
       "      <td>01:17:00</td>\n",
       "      <td>3291</td>\n",
       "      <td>3292</td>\n",
       "      <td>3291</td>\n",
       "      <td>3291</td>\n",
       "      <td>180</td>\n",
       "      <td>20</td>\n",
       "      <td>3291</td>\n",
       "      <td>3291</td>\n",
       "      <td>3292</td>\n",
       "      <td>89</td>\n",
       "      <td>91</td>\n",
       "      <td>180</td>\n",
       "    </tr>\n",
       "    <tr>\n",
       "      <th>3</th>\n",
       "      <td>29/07/2020</td>\n",
       "      <td>01:18:00</td>\n",
       "      <td>3292</td>\n",
       "      <td>3293</td>\n",
       "      <td>3292</td>\n",
       "      <td>3293</td>\n",
       "      <td>50</td>\n",
       "      <td>8</td>\n",
       "      <td>3293</td>\n",
       "      <td>3293</td>\n",
       "      <td>3293</td>\n",
       "      <td>11</td>\n",
       "      <td>39</td>\n",
       "      <td>50</td>\n",
       "    </tr>\n",
       "    <tr>\n",
       "      <th>4</th>\n",
       "      <td>29/07/2020</td>\n",
       "      <td>01:19:00</td>\n",
       "      <td>3293</td>\n",
       "      <td>3293</td>\n",
       "      <td>3293</td>\n",
       "      <td>3293</td>\n",
       "      <td>5</td>\n",
       "      <td>4</td>\n",
       "      <td>3293</td>\n",
       "      <td>3293</td>\n",
       "      <td>3293</td>\n",
       "      <td>0</td>\n",
       "      <td>5</td>\n",
       "      <td>5</td>\n",
       "    </tr>\n",
       "  </tbody>\n",
       "</table>\n",
       "</div>"
      ],
      "text/plain": [
       "         Date      Time   Open   High   Low   Last   Volume   # of Trades  \\\n",
       "0  29/07/2020  01:15:00   3287   3289  3287   3289      152            34   \n",
       "1  29/07/2020  01:16:00   3290   3291  3289   3291      158            34   \n",
       "2  29/07/2020  01:17:00   3291   3292  3291   3291      180            20   \n",
       "3  29/07/2020  01:18:00   3292   3293  3292   3293       50             8   \n",
       "4  29/07/2020  01:19:00   3293   3293  3293   3293        5             4   \n",
       "\n",
       "    OHLC Avg   HLC Avg   HL Avg   Bid Volume   Ask Volume   Volume_1  \n",
       "0       3288      3288     3288           40          112        152  \n",
       "1       3290      3290     3290           56          102        158  \n",
       "2       3291      3291     3292           89           91        180  \n",
       "3       3293      3293     3293           11           39         50  \n",
       "4       3293      3293     3293            0            5          5  "
      ]
     },
     "execution_count": 5,
     "metadata": {},
     "output_type": "execute_result"
    }
   ],
   "source": [
    "data.head()"
   ]
  },
  {
   "cell_type": "code",
   "execution_count": 11,
   "metadata": {},
   "outputs": [],
   "source": [
    "data = pd.DataFrame(data)"
   ]
  },
  {
   "cell_type": "code",
   "execution_count": 19,
   "metadata": {},
   "outputs": [
    {
     "data": {
      "text/plain": [
       "Date            object\n",
       " Time           object\n",
       " Open            int64\n",
       " High            int64\n",
       " Low             int64\n",
       " Last            int64\n",
       " Volume          int64\n",
       " # of Trades     int64\n",
       " OHLC Avg        int64\n",
       " HLC Avg         int64\n",
       " HL Avg          int64\n",
       " Bid Volume      int64\n",
       " Ask Volume      int64\n",
       " Volume_1        int64\n",
       "dtype: object"
      ]
     },
     "execution_count": 19,
     "metadata": {},
     "output_type": "execute_result"
    }
   ],
   "source": [
    "data.dtypes"
   ]
  },
  {
   "cell_type": "code",
   "execution_count": 26,
   "metadata": {},
   "outputs": [],
   "source": [
    "data['5MinSettleChange'] = [data.loc[ei-5, ' Open']-data.loc[ei, ' Last'] if data.loc[ei, ' Time']=='17:00:00' else 0 for ei in data.index]"
   ]
  },
  {
   "cell_type": "code",
   "execution_count": 27,
   "metadata": {},
   "outputs": [
    {
     "data": {
      "text/html": [
       "<div>\n",
       "<style scoped>\n",
       "    .dataframe tbody tr th:only-of-type {\n",
       "        vertical-align: middle;\n",
       "    }\n",
       "\n",
       "    .dataframe tbody tr th {\n",
       "        vertical-align: top;\n",
       "    }\n",
       "\n",
       "    .dataframe thead th {\n",
       "        text-align: right;\n",
       "    }\n",
       "</style>\n",
       "<table border=\"1\" class=\"dataframe\">\n",
       "  <thead>\n",
       "    <tr style=\"text-align: right;\">\n",
       "      <th></th>\n",
       "      <th>Date</th>\n",
       "      <th>Time</th>\n",
       "      <th>Open</th>\n",
       "      <th>High</th>\n",
       "      <th>Low</th>\n",
       "      <th>Last</th>\n",
       "      <th>Volume</th>\n",
       "      <th># of Trades</th>\n",
       "      <th>OHLC Avg</th>\n",
       "      <th>HLC Avg</th>\n",
       "      <th>HL Avg</th>\n",
       "      <th>Bid Volume</th>\n",
       "      <th>Ask Volume</th>\n",
       "      <th>Volume_1</th>\n",
       "      <th>5MinSettleChange</th>\n",
       "    </tr>\n",
       "  </thead>\n",
       "  <tbody>\n",
       "    <tr>\n",
       "      <th>0</th>\n",
       "      <td>29/07/2020</td>\n",
       "      <td>01:15:00</td>\n",
       "      <td>3287</td>\n",
       "      <td>3289</td>\n",
       "      <td>3287</td>\n",
       "      <td>3289</td>\n",
       "      <td>152</td>\n",
       "      <td>34</td>\n",
       "      <td>3288</td>\n",
       "      <td>3288</td>\n",
       "      <td>3288</td>\n",
       "      <td>40</td>\n",
       "      <td>112</td>\n",
       "      <td>152</td>\n",
       "      <td>0</td>\n",
       "    </tr>\n",
       "    <tr>\n",
       "      <th>1</th>\n",
       "      <td>29/07/2020</td>\n",
       "      <td>01:16:00</td>\n",
       "      <td>3290</td>\n",
       "      <td>3291</td>\n",
       "      <td>3289</td>\n",
       "      <td>3291</td>\n",
       "      <td>158</td>\n",
       "      <td>34</td>\n",
       "      <td>3290</td>\n",
       "      <td>3290</td>\n",
       "      <td>3290</td>\n",
       "      <td>56</td>\n",
       "      <td>102</td>\n",
       "      <td>158</td>\n",
       "      <td>0</td>\n",
       "    </tr>\n",
       "    <tr>\n",
       "      <th>2</th>\n",
       "      <td>29/07/2020</td>\n",
       "      <td>01:17:00</td>\n",
       "      <td>3291</td>\n",
       "      <td>3292</td>\n",
       "      <td>3291</td>\n",
       "      <td>3291</td>\n",
       "      <td>180</td>\n",
       "      <td>20</td>\n",
       "      <td>3291</td>\n",
       "      <td>3291</td>\n",
       "      <td>3292</td>\n",
       "      <td>89</td>\n",
       "      <td>91</td>\n",
       "      <td>180</td>\n",
       "      <td>0</td>\n",
       "    </tr>\n",
       "    <tr>\n",
       "      <th>3</th>\n",
       "      <td>29/07/2020</td>\n",
       "      <td>01:18:00</td>\n",
       "      <td>3292</td>\n",
       "      <td>3293</td>\n",
       "      <td>3292</td>\n",
       "      <td>3293</td>\n",
       "      <td>50</td>\n",
       "      <td>8</td>\n",
       "      <td>3293</td>\n",
       "      <td>3293</td>\n",
       "      <td>3293</td>\n",
       "      <td>11</td>\n",
       "      <td>39</td>\n",
       "      <td>50</td>\n",
       "      <td>0</td>\n",
       "    </tr>\n",
       "    <tr>\n",
       "      <th>4</th>\n",
       "      <td>29/07/2020</td>\n",
       "      <td>01:19:00</td>\n",
       "      <td>3293</td>\n",
       "      <td>3293</td>\n",
       "      <td>3293</td>\n",
       "      <td>3293</td>\n",
       "      <td>5</td>\n",
       "      <td>4</td>\n",
       "      <td>3293</td>\n",
       "      <td>3293</td>\n",
       "      <td>3293</td>\n",
       "      <td>0</td>\n",
       "      <td>5</td>\n",
       "      <td>5</td>\n",
       "      <td>0</td>\n",
       "    </tr>\n",
       "  </tbody>\n",
       "</table>\n",
       "</div>"
      ],
      "text/plain": [
       "         Date      Time   Open   High   Low   Last   Volume   # of Trades  \\\n",
       "0  29/07/2020  01:15:00   3287   3289  3287   3289      152            34   \n",
       "1  29/07/2020  01:16:00   3290   3291  3289   3291      158            34   \n",
       "2  29/07/2020  01:17:00   3291   3292  3291   3291      180            20   \n",
       "3  29/07/2020  01:18:00   3292   3293  3292   3293       50             8   \n",
       "4  29/07/2020  01:19:00   3293   3293  3293   3293        5             4   \n",
       "\n",
       "    OHLC Avg   HLC Avg   HL Avg   Bid Volume   Ask Volume   Volume_1  \\\n",
       "0       3288      3288     3288           40          112        152   \n",
       "1       3290      3290     3290           56          102        158   \n",
       "2       3291      3291     3292           89           91        180   \n",
       "3       3293      3293     3293           11           39         50   \n",
       "4       3293      3293     3293            0            5          5   \n",
       "\n",
       "   5MinSettleChange  \n",
       "0                 0  \n",
       "1                 0  \n",
       "2                 0  \n",
       "3                 0  \n",
       "4                 0  "
      ]
     },
     "execution_count": 27,
     "metadata": {},
     "output_type": "execute_result"
    }
   ],
   "source": [
    "data.head()"
   ]
  },
  {
   "cell_type": "code",
   "execution_count": 29,
   "metadata": {},
   "outputs": [
    {
     "data": {
      "text/plain": [
       "[<matplotlib.lines.Line2D at 0x224c8b949c8>]"
      ]
     },
     "execution_count": 29,
     "metadata": {},
     "output_type": "execute_result"
    },
    {
     "data": {
      "image/png": "[encoded data removed]",
      "text/plain": [
       "<Figure size 432x288 with 1 Axes>"
      ]
     },
     "metadata": {
      "needs_background": "light"
     },
     "output_type": "display_data"
    }
   ],
   "source": [
    "plt.plot(data['5MinSettleChange'])"
   ]
  },
  {
   "cell_type": "code",
   "execution_count": 30,
   "metadata": {},
   "outputs": [],
   "source": [
    "data['FadeDirection'] = [1 if data.loc[ei, '5MinSettleChange']<0 else -1 if data.loc[ei, '5MinSettleChange']>0 else 0 for ei in data.index]"
   ]
  },
  {
   "cell_type": "code",
   "execution_count": 31,
   "metadata": {},
   "outputs": [
    {
     "data": {
      "text/html": [
       "<div>\n",
       "<style scoped>\n",
       "    .dataframe tbody tr th:only-of-type {\n",
       "        vertical-align: middle;\n",
       "    }\n",
       "\n",
       "    .dataframe tbody tr th {\n",
       "        vertical-align: top;\n",
       "    }\n",
       "\n",
       "    .dataframe thead th {\n",
       "        text-align: right;\n",
       "    }\n",
       "</style>\n",
       "<table border=\"1\" class=\"dataframe\">\n",
       "  <thead>\n",
       "    <tr style=\"text-align: right;\">\n",
       "      <th></th>\n",
       "      <th>Date</th>\n",
       "      <th>Time</th>\n",
       "      <th>Open</th>\n",
       "      <th>High</th>\n",
       "      <th>Low</th>\n",
       "      <th>Last</th>\n",
       "      <th>Volume</th>\n",
       "      <th># of Trades</th>\n",
       "      <th>OHLC Avg</th>\n",
       "      <th>HLC Avg</th>\n",
       "      <th>HL Avg</th>\n",
       "      <th>Bid Volume</th>\n",
       "      <th>Ask Volume</th>\n",
       "      <th>Volume_1</th>\n",
       "      <th>5MinSettleChange</th>\n",
       "      <th>FadeDirection</th>\n",
       "    </tr>\n",
       "  </thead>\n",
       "  <tbody>\n",
       "    <tr>\n",
       "      <th>0</th>\n",
       "      <td>29/07/2020</td>\n",
       "      <td>01:15:00</td>\n",
       "      <td>3287</td>\n",
       "      <td>3289</td>\n",
       "      <td>3287</td>\n",
       "      <td>3289</td>\n",
       "      <td>152</td>\n",
       "      <td>34</td>\n",
       "      <td>3288</td>\n",
       "      <td>3288</td>\n",
       "      <td>3288</td>\n",
       "      <td>40</td>\n",
       "      <td>112</td>\n",
       "      <td>152</td>\n",
       "      <td>0</td>\n",
       "      <td>0</td>\n",
       "    </tr>\n",
       "    <tr>\n",
       "      <th>1</th>\n",
       "      <td>29/07/2020</td>\n",
       "      <td>01:16:00</td>\n",
       "      <td>3290</td>\n",
       "      <td>3291</td>\n",
       "      <td>3289</td>\n",
       "      <td>3291</td>\n",
       "      <td>158</td>\n",
       "      <td>34</td>\n",
       "      <td>3290</td>\n",
       "      <td>3290</td>\n",
       "      <td>3290</td>\n",
       "      <td>56</td>\n",
       "      <td>102</td>\n",
       "      <td>158</td>\n",
       "      <td>0</td>\n",
       "      <td>0</td>\n",
       "    </tr>\n",
       "    <tr>\n",
       "      <th>2</th>\n",
       "      <td>29/07/2020</td>\n",
       "      <td>01:17:00</td>\n",
       "      <td>3291</td>\n",
       "      <td>3292</td>\n",
       "      <td>3291</td>\n",
       "      <td>3291</td>\n",
       "      <td>180</td>\n",
       "      <td>20</td>\n",
       "      <td>3291</td>\n",
       "      <td>3291</td>\n",
       "      <td>3292</td>\n",
       "      <td>89</td>\n",
       "      <td>91</td>\n",
       "      <td>180</td>\n",
       "      <td>0</td>\n",
       "      <td>0</td>\n",
       "    </tr>\n",
       "    <tr>\n",
       "      <th>3</th>\n",
       "      <td>29/07/2020</td>\n",
       "      <td>01:18:00</td>\n",
       "      <td>3292</td>\n",
       "      <td>3293</td>\n",
       "      <td>3292</td>\n",
       "      <td>3293</td>\n",
       "      <td>50</td>\n",
       "      <td>8</td>\n",
       "      <td>3293</td>\n",
       "      <td>3293</td>\n",
       "      <td>3293</td>\n",
       "      <td>11</td>\n",
       "      <td>39</td>\n",
       "      <td>50</td>\n",
       "      <td>0</td>\n",
       "      <td>0</td>\n",
       "    </tr>\n",
       "    <tr>\n",
       "      <th>4</th>\n",
       "      <td>29/07/2020</td>\n",
       "      <td>01:19:00</td>\n",
       "      <td>3293</td>\n",
       "      <td>3293</td>\n",
       "      <td>3293</td>\n",
       "      <td>3293</td>\n",
       "      <td>5</td>\n",
       "      <td>4</td>\n",
       "      <td>3293</td>\n",
       "      <td>3293</td>\n",
       "      <td>3293</td>\n",
       "      <td>0</td>\n",
       "      <td>5</td>\n",
       "      <td>5</td>\n",
       "      <td>0</td>\n",
       "      <td>0</td>\n",
       "    </tr>\n",
       "  </tbody>\n",
       "</table>\n",
       "</div>"
      ],
      "text/plain": [
       "         Date      Time   Open   High   Low   Last   Volume   # of Trades  \\\n",
       "0  29/07/2020  01:15:00   3287   3289  3287   3289      152            34   \n",
       "1  29/07/2020  01:16:00   3290   3291  3289   3291      158            34   \n",
       "2  29/07/2020  01:17:00   3291   3292  3291   3291      180            20   \n",
       "3  29/07/2020  01:18:00   3292   3293  3292   3293       50             8   \n",
       "4  29/07/2020  01:19:00   3293   3293  3293   3293        5             4   \n",
       "\n",
       "    OHLC Avg   HLC Avg   HL Avg   Bid Volume   Ask Volume   Volume_1  \\\n",
       "0       3288      3288     3288           40          112        152   \n",
       "1       3290      3290     3290           56          102        158   \n",
       "2       3291      3291     3292           89           91        180   \n",
       "3       3293      3293     3293           11           39         50   \n",
       "4       3293      3293     3293            0            5          5   \n",
       "\n",
       "   5MinSettleChange  FadeDirection  \n",
       "0                 0              0  \n",
       "1                 0              0  \n",
       "2                 0              0  \n",
       "3                 0              0  \n",
       "4                 0              0  "
      ]
     },
     "execution_count": 31,
     "metadata": {},
     "output_type": "execute_result"
    }
   ],
   "source": [
    "data.head()"
   ]
  },
  {
   "cell_type": "code",
   "execution_count": 38,
   "metadata": {},
   "outputs": [],
   "source": [
    "data['1MinFade'] = [data.loc[ei,'FadeDirection']*(data.loc[ei+1, ' Open']-data.loc[ei, ' Open']) if data.loc[ei, 'FadeDirection'] != 0 else 0 for ei in data.index]"
   ]
  },
  {
   "cell_type": "code",
   "execution_count": 39,
   "metadata": {},
   "outputs": [],
   "source": [
    "data['2MinFade'] = [data.loc[ei,'FadeDirection']*(data.loc[ei+2, ' Open']-data.loc[ei, ' Open']) if data.loc[ei, 'FadeDirection'] != 0 else 0 for ei in data.index]"
   ]
  },
  {
   "cell_type": "code",
   "execution_count": 40,
   "metadata": {},
   "outputs": [],
   "source": [
    "data['3MinFade'] = [data.loc[ei,'FadeDirection']*(data.loc[ei+3, ' Open']-data.loc[ei, ' Open']) if data.loc[ei, 'FadeDirection'] != 0 else 0 for ei in data.index]"
   ]
  },
  {
   "cell_type": "code",
   "execution_count": 41,
   "metadata": {},
   "outputs": [
    {
     "data": {
      "text/html": [
       "<div>\n",
       "<style scoped>\n",
       "    .dataframe tbody tr th:only-of-type {\n",
       "        vertical-align: middle;\n",
       "    }\n",
       "\n",
       "    .dataframe tbody tr th {\n",
       "        vertical-align: top;\n",
       "    }\n",
       "\n",
       "    .dataframe thead th {\n",
       "        text-align: right;\n",
       "    }\n",
       "</style>\n",
       "<table border=\"1\" class=\"dataframe\">\n",
       "  <thead>\n",
       "    <tr style=\"text-align: right;\">\n",
       "      <th></th>\n",
       "      <th>Date</th>\n",
       "      <th>Time</th>\n",
       "      <th>Open</th>\n",
       "      <th>High</th>\n",
       "      <th>Low</th>\n",
       "      <th>Last</th>\n",
       "      <th>Volume</th>\n",
       "      <th># of Trades</th>\n",
       "      <th>OHLC Avg</th>\n",
       "      <th>HLC Avg</th>\n",
       "      <th>HL Avg</th>\n",
       "      <th>Bid Volume</th>\n",
       "      <th>Ask Volume</th>\n",
       "      <th>Volume_1</th>\n",
       "      <th>5MinSettleChange</th>\n",
       "      <th>FadeDirection</th>\n",
       "      <th>1MinFade</th>\n",
       "      <th>2MinFade</th>\n",
       "      <th>3MinFade</th>\n",
       "    </tr>\n",
       "  </thead>\n",
       "  <tbody>\n",
       "    <tr>\n",
       "      <th>0</th>\n",
       "      <td>29/07/2020</td>\n",
       "      <td>01:15:00</td>\n",
       "      <td>3287</td>\n",
       "      <td>3289</td>\n",
       "      <td>3287</td>\n",
       "      <td>3289</td>\n",
       "      <td>152</td>\n",
       "      <td>34</td>\n",
       "      <td>3288</td>\n",
       "      <td>3288</td>\n",
       "      <td>3288</td>\n",
       "      <td>40</td>\n",
       "      <td>112</td>\n",
       "      <td>152</td>\n",
       "      <td>0</td>\n",
       "      <td>0</td>\n",
       "      <td>0</td>\n",
       "      <td>0</td>\n",
       "      <td>0</td>\n",
       "    </tr>\n",
       "    <tr>\n",
       "      <th>1</th>\n",
       "      <td>29/07/2020</td>\n",
       "      <td>01:16:00</td>\n",
       "      <td>3290</td>\n",
       "      <td>3291</td>\n",
       "      <td>3289</td>\n",
       "      <td>3291</td>\n",
       "      <td>158</td>\n",
       "      <td>34</td>\n",
       "      <td>3290</td>\n",
       "      <td>3290</td>\n",
       "      <td>3290</td>\n",
       "      <td>56</td>\n",
       "      <td>102</td>\n",
       "      <td>158</td>\n",
       "      <td>0</td>\n",
       "      <td>0</td>\n",
       "      <td>0</td>\n",
       "      <td>0</td>\n",
       "      <td>0</td>\n",
       "    </tr>\n",
       "    <tr>\n",
       "      <th>2</th>\n",
       "      <td>29/07/2020</td>\n",
       "      <td>01:17:00</td>\n",
       "      <td>3291</td>\n",
       "      <td>3292</td>\n",
       "      <td>3291</td>\n",
       "      <td>3291</td>\n",
       "      <td>180</td>\n",
       "      <td>20</td>\n",
       "      <td>3291</td>\n",
       "      <td>3291</td>\n",
       "      <td>3292</td>\n",
       "      <td>89</td>\n",
       "      <td>91</td>\n",
       "      <td>180</td>\n",
       "      <td>0</td>\n",
       "      <td>0</td>\n",
       "      <td>0</td>\n",
       "      <td>0</td>\n",
       "      <td>0</td>\n",
       "    </tr>\n",
       "    <tr>\n",
       "      <th>3</th>\n",
       "      <td>29/07/2020</td>\n",
       "      <td>01:18:00</td>\n",
       "      <td>3292</td>\n",
       "      <td>3293</td>\n",
       "      <td>3292</td>\n",
       "      <td>3293</td>\n",
       "      <td>50</td>\n",
       "      <td>8</td>\n",
       "      <td>3293</td>\n",
       "      <td>3293</td>\n",
       "      <td>3293</td>\n",
       "      <td>11</td>\n",
       "      <td>39</td>\n",
       "      <td>50</td>\n",
       "      <td>0</td>\n",
       "      <td>0</td>\n",
       "      <td>0</td>\n",
       "      <td>0</td>\n",
       "      <td>0</td>\n",
       "    </tr>\n",
       "    <tr>\n",
       "      <th>4</th>\n",
       "      <td>29/07/2020</td>\n",
       "      <td>01:19:00</td>\n",
       "      <td>3293</td>\n",
       "      <td>3293</td>\n",
       "      <td>3293</td>\n",
       "      <td>3293</td>\n",
       "      <td>5</td>\n",
       "      <td>4</td>\n",
       "      <td>3293</td>\n",
       "      <td>3293</td>\n",
       "      <td>3293</td>\n",
       "      <td>0</td>\n",
       "      <td>5</td>\n",
       "      <td>5</td>\n",
       "      <td>0</td>\n",
       "      <td>0</td>\n",
       "      <td>0</td>\n",
       "      <td>0</td>\n",
       "      <td>0</td>\n",
       "    </tr>\n",
       "  </tbody>\n",
       "</table>\n",
       "</div>"
      ],
      "text/plain": [
       "         Date      Time   Open   High   Low   Last   Volume   # of Trades  \\\n",
       "0  29/07/2020  01:15:00   3287   3289  3287   3289      152            34   \n",
       "1  29/07/2020  01:16:00   3290   3291  3289   3291      158            34   \n",
       "2  29/07/2020  01:17:00   3291   3292  3291   3291      180            20   \n",
       "3  29/07/2020  01:18:00   3292   3293  3292   3293       50             8   \n",
       "4  29/07/2020  01:19:00   3293   3293  3293   3293        5             4   \n",
       "\n",
       "    OHLC Avg   HLC Avg   HL Avg   Bid Volume   Ask Volume   Volume_1  \\\n",
       "0       3288      3288     3288           40          112        152   \n",
       "1       3290      3290     3290           56          102        158   \n",
       "2       3291      3291     3292           89           91        180   \n",
       "3       3293      3293     3293           11           39         50   \n",
       "4       3293      3293     3293            0            5          5   \n",
       "\n",
       "   5MinSettleChange  FadeDirection  1MinFade  2MinFade  3MinFade  \n",
       "0                 0              0         0         0         0  \n",
       "1                 0              0         0         0         0  \n",
       "2                 0              0         0         0         0  \n",
       "3                 0              0         0         0         0  \n",
       "4                 0              0         0         0         0  "
      ]
     },
     "execution_count": 41,
     "metadata": {},
     "output_type": "execute_result"
    }
   ],
   "source": [
    "data.head()"
   ]
  },
  {
   "cell_type": "code",
   "execution_count": 42,
   "metadata": {},
   "outputs": [],
   "source": [
    "data['1MinPNL']=data['1MinFade'].cumsum()"
   ]
  },
  {
   "cell_type": "code",
   "execution_count": 43,
   "metadata": {},
   "outputs": [
    {
     "data": {
      "text/plain": [
       "[<matplotlib.lines.Line2D at 0x224c8ca4e88>]"
      ]
     },
     "execution_count": 43,
     "metadata": {},
     "output_type": "execute_result"
    },
    {
     "data": {
      "image/png": "[encoded data removed]",
      "text/plain": [
       "<Figure size 432x288 with 1 Axes>"
      ]
     },
     "metadata": {
      "needs_background": "light"
     },
     "output_type": "display_data"
    }
   ],
   "source": [
    "plt.plot(data['1MinPNL'])"
   ]
  },
  {
   "cell_type": "code",
   "execution_count": 44,
   "metadata": {},
   "outputs": [],
   "source": [
    "data['2MinPNL']=data['2MinFade'].cumsum()"
   ]
  },
  {
   "cell_type": "code",
   "execution_count": 45,
   "metadata": {},
   "outputs": [
    {
     "data": {
      "text/plain": [
       "[<matplotlib.lines.Line2D at 0x224c92f9fc8>]"
      ]
     },
     "execution_count": 45,
     "metadata": {},
     "output_type": "execute_result"
    },
    {
     "data": {
      "image/png": "[encoded data removed]",
      "text/plain": [
       "<Figure size 432x288 with 1 Axes>"
      ]
     },
     "metadata": {
      "needs_background": "light"
     },
     "output_type": "display_data"
    }
   ],
   "source": [
    "plt.plot(data['2MinPNL'])"
   ]
  },
  {
   "cell_type": "code",
   "execution_count": 46,
   "metadata": {},
   "outputs": [],
   "source": [
    "data['3MinPNL']=data['3MinFade'].cumsum()"
   ]
  },
  {
   "cell_type": "code",
   "execution_count": 47,
   "metadata": {},
   "outputs": [
    {
     "data": {
      "text/plain": [
       "[<matplotlib.lines.Line2D at 0x224c982fa88>]"
      ]
     },
     "execution_count": 47,
     "metadata": {},
     "output_type": "execute_result"
    },
    {
     "data": {
      "image/png": "[encoded data removed]",
      "text/plain": [
       "<Figure size 432x288 with 1 Axes>"
      ]
     },
     "metadata": {
      "needs_background": "light"
     },
     "output_type": "display_data"
    }
   ],
   "source": [
    "plt.plot(data['3MinPNL'])"
   ]
  },
  {
   "cell_type": "code",
   "execution_count": 64,
   "metadata": {},
   "outputs": [
    {
     "name": "stdout",
     "output_type": "stream",
     "text": [
      " 0    72637\n",
      "-1       26\n",
      " 1       23\n",
      "Name: FadeDirection, dtype: int64\n"
     ]
    }
   ],
   "source": [
    "print(data['FadeDirection'].value_counts())"
   ]
  },
  {
   "cell_type": "code",
   "execution_count": 71,
   "metadata": {},
   "outputs": [],
   "source": [
    "data['Time']=data[' Time']"
   ]
  },
  {
   "cell_type": "code",
   "execution_count": 72,
   "metadata": {},
   "outputs": [
    {
     "data": {
      "text/plain": [
       "0        01:15:00\n",
       "1        01:16:00\n",
       "2        01:17:00\n",
       "3        01:18:00\n",
       "4        01:19:00\n",
       "           ...   \n",
       "72681    19:48:00\n",
       "72682    19:49:00\n",
       "72683    19:50:00\n",
       "72684    19:51:00\n",
       "72685    19:52:00\n",
       "Name: Time, Length: 72686, dtype: object"
      ]
     },
     "execution_count": 72,
     "metadata": {},
     "output_type": "execute_result"
    }
   ],
   "source": [
    "data.Time"
   ]
  },
  {
   "cell_type": "code",
   "execution_count": 73,
   "metadata": {},
   "outputs": [],
   "source": [
    "trades = data[data.Time==\"17:00:00\"]"
   ]
  },
  {
   "cell_type": "code",
   "execution_count": 74,
   "metadata": {},
   "outputs": [
    {
     "data": {
      "text/html": [
       "<div>\n",
       "<style scoped>\n",
       "    .dataframe tbody tr th:only-of-type {\n",
       "        vertical-align: middle;\n",
       "    }\n",
       "\n",
       "    .dataframe tbody tr th {\n",
       "        vertical-align: top;\n",
       "    }\n",
       "\n",
       "    .dataframe thead th {\n",
       "        text-align: right;\n",
       "    }\n",
       "</style>\n",
       "<table border=\"1\" class=\"dataframe\">\n",
       "  <thead>\n",
       "    <tr style=\"text-align: right;\">\n",
       "      <th></th>\n",
       "      <th>Date</th>\n",
       "      <th>Time</th>\n",
       "      <th>Open</th>\n",
       "      <th>High</th>\n",
       "      <th>Low</th>\n",
       "      <th>Last</th>\n",
       "      <th>Volume</th>\n",
       "      <th># of Trades</th>\n",
       "      <th>OHLC Avg</th>\n",
       "      <th>HLC Avg</th>\n",
       "      <th>...</th>\n",
       "      <th>Volume_1</th>\n",
       "      <th>5MinSettleChange</th>\n",
       "      <th>FadeDirection</th>\n",
       "      <th>1MinFade</th>\n",
       "      <th>2MinFade</th>\n",
       "      <th>3MinFade</th>\n",
       "      <th>1MinPNL</th>\n",
       "      <th>2MinPNL</th>\n",
       "      <th>3MinPNL</th>\n",
       "      <th>Time</th>\n",
       "    </tr>\n",
       "  </thead>\n",
       "  <tbody>\n",
       "    <tr>\n",
       "      <th>897</th>\n",
       "      <td>29/07/2020</td>\n",
       "      <td>17:00:00</td>\n",
       "      <td>3295</td>\n",
       "      <td>3296</td>\n",
       "      <td>3293</td>\n",
       "      <td>3294</td>\n",
       "      <td>2037</td>\n",
       "      <td>61</td>\n",
       "      <td>3295</td>\n",
       "      <td>3294</td>\n",
       "      <td>...</td>\n",
       "      <td>2037</td>\n",
       "      <td>1</td>\n",
       "      <td>-1</td>\n",
       "      <td>1</td>\n",
       "      <td>1</td>\n",
       "      <td>0</td>\n",
       "      <td>1</td>\n",
       "      <td>1</td>\n",
       "      <td>0</td>\n",
       "      <td>17:00:00</td>\n",
       "    </tr>\n",
       "    <tr>\n",
       "      <th>2019</th>\n",
       "      <td>30/07/2020</td>\n",
       "      <td>17:00:00</td>\n",
       "      <td>3206</td>\n",
       "      <td>3207</td>\n",
       "      <td>3205</td>\n",
       "      <td>3206</td>\n",
       "      <td>5910</td>\n",
       "      <td>152</td>\n",
       "      <td>3206</td>\n",
       "      <td>3206</td>\n",
       "      <td>...</td>\n",
       "      <td>5910</td>\n",
       "      <td>1</td>\n",
       "      <td>-1</td>\n",
       "      <td>1</td>\n",
       "      <td>0</td>\n",
       "      <td>1</td>\n",
       "      <td>2</td>\n",
       "      <td>1</td>\n",
       "      <td>1</td>\n",
       "      <td>17:00:00</td>\n",
       "    </tr>\n",
       "    <tr>\n",
       "      <th>3197</th>\n",
       "      <td>31/07/2020</td>\n",
       "      <td>17:00:00</td>\n",
       "      <td>3151</td>\n",
       "      <td>3152</td>\n",
       "      <td>3150</td>\n",
       "      <td>3151</td>\n",
       "      <td>1367</td>\n",
       "      <td>63</td>\n",
       "      <td>3151</td>\n",
       "      <td>3151</td>\n",
       "      <td>...</td>\n",
       "      <td>1367</td>\n",
       "      <td>3</td>\n",
       "      <td>-1</td>\n",
       "      <td>0</td>\n",
       "      <td>0</td>\n",
       "      <td>0</td>\n",
       "      <td>2</td>\n",
       "      <td>1</td>\n",
       "      <td>1</td>\n",
       "      <td>17:00:00</td>\n",
       "    </tr>\n",
       "    <tr>\n",
       "      <th>4345</th>\n",
       "      <td>03/08/2020</td>\n",
       "      <td>17:00:00</td>\n",
       "      <td>3242</td>\n",
       "      <td>3244</td>\n",
       "      <td>3241</td>\n",
       "      <td>3244</td>\n",
       "      <td>1284</td>\n",
       "      <td>53</td>\n",
       "      <td>3243</td>\n",
       "      <td>3243</td>\n",
       "      <td>...</td>\n",
       "      <td>1284</td>\n",
       "      <td>-2</td>\n",
       "      <td>1</td>\n",
       "      <td>2</td>\n",
       "      <td>-1</td>\n",
       "      <td>-3</td>\n",
       "      <td>4</td>\n",
       "      <td>0</td>\n",
       "      <td>-2</td>\n",
       "      <td>17:00:00</td>\n",
       "    </tr>\n",
       "    <tr>\n",
       "      <th>5460</th>\n",
       "      <td>04/08/2020</td>\n",
       "      <td>17:00:00</td>\n",
       "      <td>3248</td>\n",
       "      <td>3250</td>\n",
       "      <td>3248</td>\n",
       "      <td>3248</td>\n",
       "      <td>668</td>\n",
       "      <td>28</td>\n",
       "      <td>3249</td>\n",
       "      <td>3249</td>\n",
       "      <td>...</td>\n",
       "      <td>668</td>\n",
       "      <td>2</td>\n",
       "      <td>-1</td>\n",
       "      <td>-1</td>\n",
       "      <td>1</td>\n",
       "      <td>1</td>\n",
       "      <td>3</td>\n",
       "      <td>1</td>\n",
       "      <td>-1</td>\n",
       "      <td>17:00:00</td>\n",
       "    </tr>\n",
       "  </tbody>\n",
       "</table>\n",
       "<p>5 rows × 23 columns</p>\n",
       "</div>"
      ],
      "text/plain": [
       "            Date      Time   Open   High   Low   Last   Volume   # of Trades  \\\n",
       "897   29/07/2020  17:00:00   3295   3296  3293   3294     2037            61   \n",
       "2019  30/07/2020  17:00:00   3206   3207  3205   3206     5910           152   \n",
       "3197  31/07/2020  17:00:00   3151   3152  3150   3151     1367            63   \n",
       "4345  03/08/2020  17:00:00   3242   3244  3241   3244     1284            53   \n",
       "5460  04/08/2020  17:00:00   3248   3250  3248   3248      668            28   \n",
       "\n",
       "       OHLC Avg   HLC Avg  ...   Volume_1  5MinSettleChange  FadeDirection  \\\n",
       "897        3295      3294  ...       2037                 1             -1   \n",
       "2019       3206      3206  ...       5910                 1             -1   \n",
       "3197       3151      3151  ...       1367                 3             -1   \n",
       "4345       3243      3243  ...       1284                -2              1   \n",
       "5460       3249      3249  ...        668                 2             -1   \n",
       "\n",
       "      1MinFade  2MinFade  3MinFade  1MinPNL  2MinPNL  3MinPNL      Time  \n",
       "897          1         1         0        1        1        0  17:00:00  \n",
       "2019         1         0         1        2        1        1  17:00:00  \n",
       "3197         0         0         0        2        1        1  17:00:00  \n",
       "4345         2        -1        -3        4        0       -2  17:00:00  \n",
       "5460        -1         1         1        3        1       -1  17:00:00  \n",
       "\n",
       "[5 rows x 23 columns]"
      ]
     },
     "execution_count": 74,
     "metadata": {},
     "output_type": "execute_result"
    }
   ],
   "source": [
    "trades.head()"
   ]
  },
  {
   "cell_type": "code",
   "execution_count": 76,
   "metadata": {},
   "outputs": [
    {
     "data": {
      "text/plain": [
       "[<matplotlib.lines.Line2D at 0x224c9996bc8>]"
      ]
     },
     "execution_count": 76,
     "metadata": {},
     "output_type": "execute_result"
    },
    {
     "data": {
      "image/png": "[encoded data removed]",
      "text/plain": [
       "<Figure size 432x288 with 1 Axes>"
      ]
     },
     "metadata": {
      "needs_background": "light"
     },
     "output_type": "display_data"
    }
   ],
   "source": [
    "plt.plot(trades['1MinPNL'])"
   ]
  },
  {
   "cell_type": "code",
   "execution_count": 77,
   "metadata": {},
   "outputs": [
    {
     "data": {
      "text/plain": [
       "[<matplotlib.lines.Line2D at 0x224c99fd788>]"
      ]
     },
     "execution_count": 77,
     "metadata": {},
     "output_type": "execute_result"
    },
    {
     "data": {
      "image/png": "[encoded data removed]",
      "text/plain": [
       "<Figure size 432x288 with 1 Axes>"
      ]
     },
     "metadata": {
      "needs_background": "light"
     },
     "output_type": "display_data"
    }
   ],
   "source": [
    "plt.plot(trades['5MinSettleChange'])"
   ]
  },
  {
   "cell_type": "code",
   "execution_count": null,
   "metadata": {},
   "outputs": [],
   "source": []
  }
 ],
 "metadata": {
  "kernelspec": {
   "display_name": "Python 3",
   "language": "python",
   "name": "python3"
  },
  "language_info": {
   "codemirror_mode": {
    "name": "ipython",
    "version": 3
   },
   "file_extension": ".py",
   "mimetype": "text/x-python",
   "name": "python",
   "nbconvert_exporter": "python",
   "pygments_lexer": "ipython3",
   "version": "3.7.6"
  }
 },
 "nbformat": 4,
 "nbformat_minor": 4
}
